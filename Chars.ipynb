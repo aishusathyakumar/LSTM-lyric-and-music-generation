{
  "nbformat": 4,
  "nbformat_minor": 0,
  "metadata": {
    "colab": {
      "name": "Chars.ipynb",
      "version": "0.3.2",
      "provenance": []
    },
    "kernelspec": {
      "name": "python3",
      "display_name": "Python 3"
    }
  },
  "cells": [
    {
      "metadata": {
        "id": "v1fRiu1-feii",
        "colab_type": "code",
        "outputId": "17230d7b-c1eb-4df2-fa64-051dc340d7be",
        "colab": {
          "base_uri": "https://localhost:8080/",
          "height": 204
        }
      },
      "cell_type": "code",
      "source": [
        "! wget https://pastebin.com/raw/SRmKpHFA"
      ],
      "execution_count": 0,
      "outputs": [
        {
          "output_type": "stream",
          "text": [
            "--2019-02-04 17:29:50--  https://pastebin.com/raw/SRmKpHFA\n",
            "Resolving pastebin.com (pastebin.com)... 104.20.208.21, 104.20.209.21, 2606:4700:10::6814:d015, ...\n",
            "Connecting to pastebin.com (pastebin.com)|104.20.208.21|:443... connected.\n",
            "HTTP request sent, awaiting response... 200 OK\n",
            "Length: unspecified [text/plain]\n",
            "Saving to: ‘SRmKpHFA.1’\n",
            "\n",
            "\rSRmKpHFA.1              [<=>                 ]       0  --.-KB/s               \rSRmKpHFA.1              [ <=>                ]  17.88K  --.-KB/s    in 0.002s  \n",
            "\n",
            "2019-02-04 17:29:50 (7.94 MB/s) - ‘SRmKpHFA.1’ saved [18304]\n",
            "\n"
          ],
          "name": "stdout"
        }
      ]
    },
    {
      "metadata": {
        "id": "PU-TNKEbfhFh",
        "colab_type": "code",
        "outputId": "f45bb7e9-b60e-4149-9971-ca5a4f6e1767",
        "colab": {
          "base_uri": "https://localhost:8080/",
          "height": 187
        }
      },
      "cell_type": "code",
      "source": [
        "! cat SRmKpHFA|head"
      ],
      "execution_count": 0,
      "outputs": [
        {
          "output_type": "stream",
          "text": [
            "words,notes\r\n",
            "A,G\r\n",
            "dream,Bb\r\n",
            "is,A\r\n",
            "a,Bb\r\n",
            "wish,G#\r\n",
            "your,D#\r\n",
            "heart,F#\r\n",
            "makes,D#\r\n",
            "When,Bb\r\n"
          ],
          "name": "stdout"
        }
      ]
    },
    {
      "metadata": {
        "id": "Awd8TV69flyr",
        "colab_type": "code",
        "colab": {}
      },
      "cell_type": "code",
      "source": [
        "import numpy as np\n",
        "\n",
        "charDict = {}\n",
        "labelDict = {}\n",
        "indToLabel = {}\n",
        "labelCount =  0\n",
        "indiCount = {}\n",
        "count = 1\n",
        "X = []\n",
        "Y = np.random.randint(0,155, size=(1989))\n",
        "#Y = []\n",
        "\n",
        "CHAR_COUNT = 5\n",
        "\n",
        "def charToDict(text):\n",
        "  global count\n",
        "  for I in text:\n",
        "    if not charDict.get(I,None):\n",
        "      charDict[I] = count\n",
        "      count += 1 \n",
        "\n",
        "def toNumber(text):\n",
        "  x = np.zeros(CHAR_COUNT)\n",
        "  for C,I in enumerate(text[:CHAR_COUNT]):\n",
        "    x[C] = charDict[I]\n",
        "  return x\n",
        "      \n",
        "with open(\"SRmKpHFA\",\"r\") as inp:\n",
        "  first = True\n",
        "  readData = inp.read().split(\"\\n\")\n",
        "  for line in readData:\n",
        "    if first:\n",
        "      first = False\n",
        "      continue\n",
        "    data = line.split(\",\")\n",
        "    charToDict(data[0])\n",
        "    if (not labelDict.get(data[1],None)):\n",
        "      labelDict[data[1]] = labelCount\n",
        "      labelCount += 1\n",
        "      indToLabel[labelCount] = data[1]\n",
        "      indiCount[data[1]] = 1\n",
        "    else:\n",
        "      indiCount[data[1]] +=1 \n",
        "    X.append(toNumber(data[0])) \n",
        "    #Y.append(labelDict[data[1]])\n",
        "    "
      ],
      "execution_count": 0,
      "outputs": []
    },
    {
      "metadata": {
        "id": "Iot_zrFlroZ0",
        "colab_type": "code",
        "outputId": "56d4183c-9449-4bbf-a1ba-302c8f7ef2e4",
        "colab": {
          "base_uri": "https://localhost:8080/",
          "height": 347
        }
      },
      "cell_type": "code",
      "source": [
        "import matplotlib.pyplot as plt\n",
        "\n",
        "plt.bar(indiCount.keys(), indiCount.values(), 1, color='g')\n",
        "plt.show()\n",
        "\n"
      ],
      "execution_count": 0,
      "outputs": [
        {
          "output_type": "display_data",
          "data": {
            "image/png": "[encoded data removed]",
            "text/plain": [
              "<Figure size 576x396 with 1 Axes>"
            ]
          },
          "metadata": {
            "tags": []
          }
        }
      ]
    },
    {
      "metadata": {
        "id": "e4m7hrdqgAVr",
        "colab_type": "code",
        "outputId": "ff02a48d-d250-4bed-8a71-460703045666",
        "colab": {
          "base_uri": "https://localhost:8080/",
          "height": 34
        }
      },
      "cell_type": "code",
      "source": [
        "X = np.array(X)\n",
        "Y = np.array(Y)\n",
        "\n",
        "print (X.shape,Y.shape)\n"
      ],
      "execution_count": 0,
      "outputs": [
        {
          "output_type": "stream",
          "text": [
            "(1989, 5) (1989,)\n"
          ],
          "name": "stdout"
        }
      ]
    },
    {
      "metadata": {
        "id": "4vVsY4i1lBYZ",
        "colab_type": "code",
        "outputId": "9c9834c4-f7c1-4567-cc91-ba9d412455b7",
        "colab": {
          "base_uri": "https://localhost:8080/",
          "height": 34
        }
      },
      "cell_type": "code",
      "source": [
        "print (len(charDict),len(labelDict))"
      ],
      "execution_count": 0,
      "outputs": [
        {
          "output_type": "stream",
          "text": [
            "63 155\n"
          ],
          "name": "stdout"
        }
      ]
    },
    {
      "metadata": {
        "id": "LJpT615tmytj",
        "colab_type": "code",
        "outputId": "8128568d-6a57-4e97-d3b0-85fb164af5bf",
        "colab": {
          "base_uri": "https://localhost:8080/",
          "height": 54
        }
      },
      "cell_type": "code",
      "source": [
        "print (labelDict)"
      ],
      "execution_count": 0,
      "outputs": [
        {
          "output_type": "stream",
          "text": [
            "{'G': 13, 'Bb': 1, 'A': 2, 'G#': 3, 'D#': 4, 'F#': 5, 'B': 6, 'D#-C#': 7, 'C#': 8, 'E#': 9, '-': 10, 'E#-G#-F#': 11, '\"': 12, 'F#-D#': 14, 'G#-F#': 15, 'B-C#': 16, 'B#b': 17, 'B#b-G#': 18, 'D#-G#-F#': 19, 'A-A': 20, 'F': 21, 'E': 22, 'D': 23, 'C': 24, 'F-F': 25, 'D-E': 26, 'C#-C#': 27, 'C#-B': 28, 'C#-A': 29, 'G-DE': 30, 'E#-D#-C#-B': 31, 'D#-E#': 32, 'B-A': 33, 'A-G': 34, 'C#-B-A': 35, 'G-D': 36, 'A-G#-F#': 37, 'C#-B-A-G#': 38, 'G#-A': 39, 'C#-E#': 40, 'C#-E#-E#-E#': 41, 'A#': 42, 'E#-E#': 43, 'D#-C#-B': 44, 'G#-A-A': 45, 'B-C#-C#': 46, 'E#-F#': 47, 'C#-D#': 48, 'E#-D#': 49, 'G#-G#': 50, 'B-Bb': 51, 'B-G#': 52, 'F#-D#-C#': 53, 'C#-C#-B': 54, 'A-G-F#': 55, 'B-': 56, 'A-B': 57, 'B-A-G': 58, 'C#-C#-C#': 59, 'A-C#': 60, 'B-A-B': 61, '~': 62, 'C#-B-A-B': 63, '-C#': 64, 'BAB': 65, 'F#-ED': 66, 'D#-A': 67, 'AGF#-ED': 68, 'G-F#': 69, 'A-F#': 70, 'F#-E-ED': 71, 'AGF#ED': 72, 'AGF#-EDED': 73, 'BC#BA': 74, 'E-F#': 75, 'DC#': 76, 'C#B': 77, 'D#-D#D#': 78, 'D#-D#-C#': 79, 'C#-A-C#': 80, 'D#-D#': 81, 'E#-E#-D#-D#': 82, 'F#-E': 83, 'F#-E-D': 84, 'D#-C': 85, 'G-G': 86, 'G#-F#-D#': 87, 'G#-D#': 88, 'G#-F#-F#': 89, 'Nothing': 90, 'E#-D#-E#': 91, 'G#-E': 92, 'E#-E#-E#': 93, 'F#-F#': 94, 'C#-D#-E#-D#-E#': 95, 'La': 96, 'F#-E#': 97, 'B-B-C#': 98, 'E-B-B': 99, 'B-B': 100, 'B-G': 101, 'E-E': 102, '-F#': 103, 'A-A-G-F#-E': 104, 'B-B-A-G': 105, 'C#-C#B': 106, 'BA': 107, 'D#-F#': 108, 'A-C#-B-A': 109, 'E#-': 110, 'D#C#-D#': 111, 'D#-C#-D#': 112, 'C-A': 113, 'C#-Bb': 114, 'Bb-G': 115, 'D#-B': 116, 'F#-A#-G#': 117, 'F#-G': 118, 'D-B': 119, 'A-A-A-A': 120, 'F#-E-D-E-B': 121, 'F#-E-D-E': 122, 'Whoa': 123, 'G#-G#-G#-F#-F#': 124, 'C#-D#-E#': 125, 'E#-D#-C#': 126, 'A-C#-D#': 127, 'C#-A-C#-D#-E#': 128, 'C#-G': 129, 'D#-E#-E#-E#D#C#': 130, 'And': 131, 'D#-E#-E#-E#-D#-C#': 132, 'But': 133, 'E#-F#-F#-E#-D#': 134, 'C#-D#-D#C#-B-C#': 135, 'ED#C#': 136, 'G-A': 137, 'F#-B': 138, 'D#-DB#AB': 139, 'D#-E#-D#-E#-G#': 140, 'To': 141, 'E#-G#-A#-E#-D#-C#': 142, 'Sea': 143, 'D#-D#-C#-A': 144, 'A#-G#-A#': 145, 'E-F': 146, 'E#-C#': 147, 'G-E': 148, 'A-B-E': 149, 'B-G-A': 150, 'B-A-A': 151, 'E-D': 152, 'A-B-C#-C#': 153, 'D-Bb-D': 154, 'Bb-Bb': 155}\n"
          ],
          "name": "stdout"
        }
      ]
    },
    {
      "metadata": {
        "id": "hlCx_MU9jNGu",
        "colab_type": "code",
        "outputId": "073ea267-f7cc-4bfd-b055-431afd383c5b",
        "colab": {
          "base_uri": "https://localhost:8080/",
          "height": 34
        }
      },
      "cell_type": "code",
      "source": [
        "from keras.models import Sequential, load_model\n",
        "from keras.layers import *\n",
        "from keras.layers import LSTM\n",
        "from keras.optimizers import Adam\n",
        "\n",
        "def modelling():\n",
        "    model = Sequential()\n",
        "    model.add(Embedding(len(charDict)+1, 32, input_length=CHAR_COUNT))\n",
        "    model.add(LSTM(1024))\n",
        "    model.add(Dense(len(labelDict)+1))\n",
        "    model.add(Activation('softmax'))\n",
        "\n",
        "    optimizer = Adam(lr=0.001)\n",
        "    model.compile(loss='sparse_categorical_crossentropy', optimizer=optimizer,metrics =['acc'])\n",
        "    return model\n"
      ],
      "execution_count": 0,
      "outputs": [
        {
          "output_type": "stream",
          "text": [
            "Using TensorFlow backend.\n"
          ],
          "name": "stderr"
        }
      ]
    },
    {
      "metadata": {
        "id": "xNsn2ISgjSRd",
        "colab_type": "code",
        "outputId": "15014320-1312-4b8e-b921-5038cc0582b3",
        "colab": {
          "base_uri": "https://localhost:8080/",
          "height": 272
        }
      },
      "cell_type": "code",
      "source": [
        "model = modelling()\n",
        "model.summary()"
      ],
      "execution_count": 0,
      "outputs": [
        {
          "output_type": "stream",
          "text": [
            "_________________________________________________________________\n",
            "Layer (type)                 Output Shape              Param #   \n",
            "=================================================================\n",
            "embedding_1 (Embedding)      (None, 5, 32)             2048      \n",
            "_________________________________________________________________\n",
            "lstm_1 (LSTM)                (None, 1024)              4329472   \n",
            "_________________________________________________________________\n",
            "dense_1 (Dense)              (None, 156)               159900    \n",
            "_________________________________________________________________\n",
            "activation_1 (Activation)    (None, 156)               0         \n",
            "=================================================================\n",
            "Total params: 4,491,420\n",
            "Trainable params: 4,491,420\n",
            "Non-trainable params: 0\n",
            "_________________________________________________________________\n"
          ],
          "name": "stdout"
        }
      ]
    },
    {
      "metadata": {
        "id": "3y7fpEVhl3Be",
        "colab_type": "code",
        "outputId": "3faf5d13-23af-4987-a7c7-6d935368b7bc",
        "colab": {
          "base_uri": "https://localhost:8080/",
          "height": 163
        }
      },
      "cell_type": "code",
      "source": [
        "model.fit(X, Y,validation_split=0.1, batch_size=128, epochs=3)"
      ],
      "execution_count": 0,
      "outputs": [
        {
          "output_type": "error",
          "ename": "NameError",
          "evalue": "ignored",
          "traceback": [
            "\u001b[0;31m---------------------------------------------------------------------------\u001b[0m",
            "\u001b[0;31mNameError\u001b[0m                                 Traceback (most recent call last)",
            "\u001b[0;32m<ipython-input-4-be64a88d0fc3>\u001b[0m in \u001b[0;36m<module>\u001b[0;34m()\u001b[0m\n\u001b[0;32m----> 1\u001b[0;31m \u001b[0mmodel\u001b[0m\u001b[0;34m.\u001b[0m\u001b[0mfit\u001b[0m\u001b[0;34m(\u001b[0m\u001b[0mX\u001b[0m\u001b[0;34m,\u001b[0m \u001b[0mY\u001b[0m\u001b[0;34m,\u001b[0m\u001b[0mvalidation_split\u001b[0m\u001b[0;34m=\u001b[0m\u001b[0;36m0.1\u001b[0m\u001b[0;34m,\u001b[0m \u001b[0mbatch_size\u001b[0m\u001b[0;34m=\u001b[0m\u001b[0;36m128\u001b[0m\u001b[0;34m,\u001b[0m \u001b[0mepochs\u001b[0m\u001b[0;34m=\u001b[0m\u001b[0;36m3\u001b[0m\u001b[0;34m)\u001b[0m\u001b[0;34m\u001b[0m\u001b[0;34m\u001b[0m\u001b[0m\n\u001b[0m",
            "\u001b[0;31mNameError\u001b[0m: name 'model' is not defined"
          ]
        }
      ]
    },
    {
      "metadata": {
        "id": "VUQaTzd6mSq-",
        "colab_type": "code",
        "outputId": "bc5a625b-dc3f-4e1c-bcb8-228d2bc9368c",
        "colab": {
          "base_uri": "https://localhost:8080/",
          "height": 35
        }
      },
      "cell_type": "code",
      "source": [
        "prob = model.predict(toNumber(\"tree\").reshape(1,CHAR_COUNT))\n",
        "print (indToLabel[np.argmax(prob)],np.argmax(prob))"
      ],
      "execution_count": 0,
      "outputs": [
        {
          "output_type": "stream",
          "text": [
            "A-B 58\n"
          ],
          "name": "stdout"
        }
      ]
    },
    {
      "metadata": {
        "id": "PzWdGmrpn5bO",
        "colab_type": "code",
        "outputId": "3d5988a7-9f8c-4e36-e459-1be23f9d1d17",
        "colab": {
          "base_uri": "https://localhost:8080/",
          "height": 899
        }
      },
      "cell_type": "code",
      "source": [
        "sent = \"you are my love and my life girl your lips the moonlight i was a spin the stars and so when i say i love it all the blues i wish a spark of my heart when you say i was a said a spring and the star\"\n",
        "sent = sent.split(\" \")\n",
        "for  word in sent:\n",
        "  prob = model.predict(toNumber(word).reshape(1,CHAR_COUNT))\n",
        "  print (\"{} -- {}\".format(word,indToLabel[np.argmax(prob)]))"
      ],
      "execution_count": 0,
      "outputs": [
        {
          "output_type": "stream",
          "text": [
            "you -- C#-A-C#\n",
            "are -- D#-A\n",
            "my -- D#-A\n",
            "love -- D#-A\n",
            "and -- D#-A\n",
            "my -- D#-A\n",
            "life -- D#-A\n",
            "girl -- A-B\n",
            "your -- G-F#\n",
            "lips -- D#-A\n",
            "the -- D#-A\n",
            "moonlight -- D#-A\n",
            "i -- B-G\n",
            "was -- D#-A\n",
            "a -- B-G\n",
            "spin -- C#-A-C#\n",
            "the -- D#-A\n",
            "stars -- C#-A-C#\n",
            "and -- D#-A\n",
            "so -- D#-A\n",
            "when -- A-B\n",
            "i -- B-G\n",
            "say -- D#-A\n",
            "i -- B-G\n",
            "love -- D#-A\n",
            "it -- D#-A\n",
            "all -- D#-A\n",
            "the -- D#-A\n",
            "blues -- A-B\n",
            "i -- B-G\n",
            "wish -- D#-A\n",
            "a -- B-G\n",
            "spark -- C#-A-C#\n",
            "of -- D#-A\n",
            "my -- D#-A\n",
            "heart -- C#-A-C#\n",
            "when -- A-B\n",
            "you -- C#-A-C#\n",
            "say -- D#-A\n",
            "i -- B-G\n",
            "was -- D#-A\n",
            "a -- B-G\n",
            "said -- C#-A-C#\n",
            "a -- B-G\n",
            "spring -- C#-A-C#\n",
            "and -- D#-A\n",
            "the -- D#-A\n",
            "star -- C#-A-C#\n"
          ],
          "name": "stdout"
        }
      ]
    },
    {
      "metadata": {
        "id": "Cs3VbledCxU_",
        "colab_type": "code",
        "outputId": "d3116880-c163-4109-9d3b-36386722fb1c",
        "colab": {
          "base_uri": "https://localhost:8080/",
          "height": 899
        }
      },
      "cell_type": "code",
      "source": [
        "sent = \"you are my love and my life girl your lips the moonlight i was a spin the stars and so when i say i love it all the blues i wish a spark of my heart when you say i was a said a spring and the star\"\n",
        "sent = sent.split(\" \")\n",
        "for  word in sent:\n",
        "  prob = model.predict(toNumber(word).reshape(1,CHAR_COUNT))\n",
        "  print (\"{}\".format(indToLabel[np.argmax(prob)]))"
      ],
      "execution_count": 0,
      "outputs": [
        {
          "output_type": "stream",
          "text": [
            "C#-A-C#\n",
            "D#-A\n",
            "D#-A\n",
            "D#-A\n",
            "D#-A\n",
            "D#-A\n",
            "D#-A\n",
            "A-B\n",
            "G-F#\n",
            "D#-A\n",
            "D#-A\n",
            "D#-A\n",
            "B-G\n",
            "D#-A\n",
            "B-G\n",
            "C#-A-C#\n",
            "D#-A\n",
            "C#-A-C#\n",
            "D#-A\n",
            "D#-A\n",
            "A-B\n",
            "B-G\n",
            "D#-A\n",
            "B-G\n",
            "D#-A\n",
            "D#-A\n",
            "D#-A\n",
            "D#-A\n",
            "A-B\n",
            "B-G\n",
            "D#-A\n",
            "B-G\n",
            "C#-A-C#\n",
            "D#-A\n",
            "D#-A\n",
            "C#-A-C#\n",
            "A-B\n",
            "C#-A-C#\n",
            "D#-A\n",
            "B-G\n",
            "D#-A\n",
            "B-G\n",
            "C#-A-C#\n",
            "B-G\n",
            "C#-A-C#\n",
            "D#-A\n",
            "D#-A\n",
            "C#-A-C#\n"
          ],
          "name": "stdout"
        }
      ]
    },
    {
      "metadata": {
        "id": "R8LvKXLKqsEq",
        "colab_type": "code",
        "colab": {}
      },
      "cell_type": "code",
      "source": [
        ""
      ],
      "execution_count": 0,
      "outputs": []
    }
  ]
}