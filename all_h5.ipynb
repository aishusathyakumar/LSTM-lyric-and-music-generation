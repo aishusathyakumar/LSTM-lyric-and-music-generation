{
  "nbformat": 4,
  "nbformat_minor": 0,
  "metadata": {
    "colab": {
      "name": "all_h5.ipynb",
      "version": "0.3.2",
      "provenance": [],
      "collapsed_sections": [],
      "toc_visible": true
    },
    "kernelspec": {
      "name": "python3",
      "display_name": "Python 3"
    },
    "accelerator": "GPU"
  },
  "cells": [
    {
      "metadata": {
        "id": "w-ZKMMd1KxSr",
        "colab_type": "text"
      },
      "cell_type": "markdown",
      "source": [
        ""
      ]
    },
    {
      "metadata": {
        "colab_type": "code",
        "id": "Mi8Tuu7Ctdck",
        "colab": {}
      },
      "cell_type": "code",
      "source": [
        "from keras.models import Sequential, load_model\n",
        "from keras.layers import Dense, Activation, Dropout\n",
        "from keras.layers import LSTM\n",
        "from keras.optimizers import RMSprop\n",
        "import io\n",
        "import numpy as np\n",
        "\n",
        "\n",
        "def create_sequences(text, sequence_length, step):\n",
        "    sequences = []\n",
        "    next_chars = []\n",
        "    for i in range(0, len(text) - sequence_length, step):\n",
        "        sequences.append(text[i: i + sequence_length])\n",
        "        next_chars.append(text[i + sequence_length])\n",
        "    return sequences, next_chars\n",
        "\n",
        "\n",
        "def build_model(sequence_length, chars):\n",
        "    model = Sequential()\n",
        "    model.add(LSTM(128, input_shape=(sequence_length, len(chars))))\n",
        "    model.add(Dense(len(chars)))\n",
        "    model.add(Activation('softmax'))\n",
        "\n",
        "    optimizer = RMSprop(lr=0.01)\n",
        "    model.compile(loss='categorical_crossentropy', optimizer=optimizer)\n",
        "    return model\n",
        "\n",
        "\n",
        "def sample(preds, temperature=1.0):\n",
        "\n",
        "    if temperature == 0:\n",
        "        temperature = 1\n",
        "\n",
        "    preds = np.asarray(preds).astype('float64')\n",
        "    preds = np.log(preds) / temperature\n",
        "    exp_preds = np.exp(preds)\n",
        "    preds = exp_preds / np.sum(exp_preds)\n",
        "    probas = np.random.multinomial(1, preds, 1)\n",
        "    return np.argmax(probas)\n",
        "\n",
        "\n",
        "def extract_characters(text):\n",
        "    return sorted(list(set(text)))\n",
        "\n",
        "\n",
        "def get_chars_index_dicts(chars):\n",
        "    return dict((c, i) for i, c in enumerate(chars)), dict((i, c) for i, c in enumerate(chars))\n",
        "\n",
        "\n",
        "def read_corpus(path):\n",
        "    with io.open(path, 'r', encoding='utf8') as f:\n",
        "        return f.read().lower()\n",
        "\n",
        "\n",
        "def vectorize(sequences, sequence_length, chars, char_to_index, next_chars):\n",
        "    X = np.zeros((len(sequences), sequence_length, len(chars)), dtype=np.bool)\n",
        "    y = np.zeros((len(sequences), len(chars)), dtype=np.bool)\n",
        "    for i, sentence in enumerate(sequences):\n",
        "        for t, char in enumerate(sentence):\n",
        "            X[i, t, char_to_index[char]] = 1\n",
        "        y[i, char_to_index[next_chars[i]]] = 1\n",
        "\n",
        "    return X, y"
      ],
      "execution_count": 0,
      "outputs": []
    },
    {
      "metadata": {
        "id": "Skv7itsBFFcr",
        "colab_type": "text"
      },
      "cell_type": "markdown",
      "source": [
        "**  LIBRARIES**\n",
        "Put simply, the __future__ statement forces Python interpreters to use newer features of the language.\n",
        "NumPy is a scientific and numerical computing extension to the Python programming language.\n",
        " Python defines a set of functions that are used to generate or manipulate random numbers.\n",
        "  System-specific parameters and functions. This module provides access to some variables used or maintained by the interpreter and to functions that interact strongly with the interpreter.\n",
        "  If you only need to save the architecture of a model, and not its weights or its training configuration\n",
        "\n",
        " ---------------------------------------------- \n",
        " \n",
        " \n",
        "  "
      ]
    },
    {
      "metadata": {
        "colab_type": "code",
        "id": "SZ_8kO65tdcU",
        "colab": {}
      },
      "cell_type": "code",
      "source": [
        ""
      ],
      "execution_count": 0,
      "outputs": []
    },
    {
      "metadata": {
        "colab_type": "code",
        "outputId": "ed916586-513f-4bf2-84ec-9b4a9ab0d08f",
        "id": "FHuPSCEWtdcf",
        "colab": {
          "base_uri": "https://localhost:8080/",
          "height": 87
        }
      },
      "cell_type": "code",
      "source": [
        "from __future__ import print_function    \n",
        "import numpy as np\n",
        "import random\n",
        "import sys\n",
        "from keras.models import load_model\n",
        "\n",
        "\n",
        "\n",
        "SEQUENCE_LENGTH = 40\n",
        "SEQUENCE_STEP = 2\n",
        "\n",
        "EPOCHS10 = 2\n",
        "DIVERSITY = 1.0\n",
        "\n",
        "\n",
        "\n",
        "#Read the corpus and get unique characters from the corpus.\n",
        "text = read_corpus(\"jazz.txt\")\n",
        "chars = extract_characters(text)\n",
        "\n",
        "#Create sequences that will be used as the input to the network.\n",
        "#Create next_chars array that will serve as the labels during the training.\n",
        "sequences, next_chars = create_sequences(text, SEQUENCE_LENGTH, SEQUENCE_STEP)\n",
        "char_to_index, indices_char = get_chars_index_dicts(chars)\n",
        "\n",
        "#The network is not able to work with characters and strings, we need to vectorise.\n",
        "X, y = vectorize(sequences, SEQUENCE_LENGTH, chars, char_to_index, next_chars)\n",
        "\n",
        "#Define the structure of the model.\n",
        "model = build_model(SEQUENCE_LENGTH, chars)\n",
        "\n",
        "#Train the model\n",
        "\n",
        "model.fit(X, y, batch_size=128, epochs=EPOCHS10)\n",
        "\n",
        "\n",
        "model.save('jazz.h5')\n",
        "\n",
        "#model.save_weights(\"final.h5\")\n",
        "\n",
        "#model = load_model(\"final.h5\")  # you can skip training by loading the trained weights\n",
        "\n"
      ],
      "execution_count": 0,
      "outputs": [
        {
          "output_type": "stream",
          "text": [
            "Epoch 1/2\n",
            "351522/351522 [==============================] - 240s 681us/step - loss: 1.8359\n",
            "Epoch 2/2\n",
            "351522/351522 [==============================] - 243s 692us/step - loss: 1.5730\n"
          ],
          "name": "stdout"
        }
      ]
    },
    {
      "metadata": {
        "id": "NSRZQKkJCz6j",
        "colab_type": "text"
      },
      "cell_type": "markdown",
      "source": [
        ""
      ]
    },
    {
      "metadata": {
        "id": "3VzognKDH6uy",
        "colab_type": "code",
        "outputId": "a216be75-fd1f-46a8-bdbb-f22d6b059948",
        "colab": {
          "base_uri": "https://localhost:8080/",
          "height": 1143
        }
      },
      "cell_type": "code",
      "source": [
        "\n",
        "model = load_model('jazz.h5')\n",
        "#Pick a random sequence and make the network continue\n",
        "for diversity in [0.2, 0.5, 1.0, 1.2]:\n",
        "    print()\n",
        "    print('----- diversity:', diversity)\n",
        "\n",
        "    generated = ''\n",
        "    # insert your 40-chars long string. OBS it needs to be exactly 40 chars!\n",
        "    sentence = \"You are my love and my life, girl, Your \"\n",
        "    sentence = sentence.lower() #stop here-------------^\"\n",
        "    generated += sentence\n",
        "\n",
        "    print('----- Generating with seed: \"' + sentence + '\"')\n",
        "    sys.stdout.write(generated)\n",
        "\n",
        "    for i in range(400):\n",
        "        x = np.zeros((1, SEQUENCE_LENGTH, len(chars)))\n",
        "        for t, char in enumerate(sentence):\n",
        "            x[0, t, char_to_index[char]] = 1\n",
        "\n",
        "        predictions = model.predict(x, verbose=0)[0]\n",
        "        next_index = sample(predictions, diversity)\n",
        "        next_char = indices_char[next_index]\n",
        "\n",
        "        generated += next_char\n",
        "        sentence = sentence[1:] + next_char\n",
        "\n",
        "        sys.stdout.write(next_char)\n",
        "        sys.stdout.flush()\n",
        "    print()"
      ],
      "execution_count": 0,
      "outputs": [
        {
          "output_type": "stream",
          "text": [
            "\n",
            "----- diversity: 0.2\n",
            "----- Generating with seed: \"you are my love and my life, girl, your \"\n",
            "you are my love and my life, girl, your lips the moonlight\n",
            "i was a spin the stars\n",
            "and so when i say i love it all the blues\n",
            "\n",
            "i wish a spark of my heart when you say\n",
            "i was a said a spring and the star\n",
            "\n",
            "i won't be the way the stars\n",
            "\n",
            "i was a little said to me\n",
            "\n",
            "i was a swell and when i were the moonlight\n",
            "\n",
            "i was a spin the stars of my heart\n",
            "\n",
            "i will i love you the way the same\n",
            "\n",
            "when i was i were a swell and start\n",
            "\n",
            "i was a same is the stars\n",
            "\n",
            "i\n",
            "\n",
            "----- diversity: 0.5\n",
            "----- Generating with seed: \"you are my love and my life, girl, your \"\n",
            "you are my love and my life, girl, your sun\n",
            "i cat all the moonlight and been the stard\n",
            "\n",
            "\n",
            "you have all the stars of a little stars\n",
            "the moonlight is a swings that i start\n",
            "but i can meet the night and stay \n",
            "when i list my heart we crieves\n",
            "he long of my love\n",
            "\n",
            "it always should like is to the star\n",
            "\n",
            "of you and what is someone i find the stars\n",
            "\n",
            "what he gave i'm to a word\n",
            "\n",
            "i don' i tell me the wist and were me\n",
            "\n",
            "whole and so man me\n",
            "what a forday \n",
            "\n",
            "----- diversity: 1.0\n",
            "----- Generating with seed: \"you are my love and my life, girl, your \"\n",
            "you are my love and my life, girl, your peralive,\n",
            "and beting goaney too, rugle dessorpur to time!\n",
            "as i love you suvila, my night\n",
            "our rightwet'll day you say burn\n",
            "charmos buclen she'llowwellipeal\n",
            "every meinna, fall on the is\n",
            "crous, now armer that walk and closelkes, and i changed\n",
            "use bren yes\n",
            "ah only caress, baby!\n",
            "hacp! it only say not ever me\n",
            "well, as the simmer still as the ronight\n",
            "dinigotace, as for love\n",
            "for met ritgel h"
          ],
          "name": "stdout"
        }
      ]
    }
  ]
}